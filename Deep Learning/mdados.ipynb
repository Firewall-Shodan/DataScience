{
 "cells": [
  {
   "cell_type": "code",
   "execution_count": 41,
   "id": "2499f1cd-56a6-428e-ac3a-750e38d077e3",
   "metadata": {},
   "outputs": [
    {
     "data": {
      "text/plain": [
       "array([[<Axes: title={'center': 'n_tokens'}>]], dtype=object)"
      ]
     },
     "execution_count": 41,
     "metadata": {},
     "output_type": "execute_result"
    },
    {
     "data": {
      "image/png": "[encoded data removed]",
      "text/plain": [
       "<Figure size 640x480 with 1 Axes>"
      ]
     },
     "metadata": {},
     "output_type": "display_data"
    }
   ],
   "source": [
    "import numpy as np\n",
    "import os\n",
    "import pandas as pd\n",
    "import gradio as gr\n",
    "import matplotlib.pyplot as plt\n",
    "import tiktoken\n",
    "import openai\n",
    "import time \n",
    "from openai.embeddings_utils import distances_from_embeddings, cosine_similarity\n",
    "\n",
    "\n",
    "\n",
    "tokenizer = tiktoken.get_encoding(\"cl100k_base\")\n",
    "\n",
    "df = pd.read_csv('source.csv', header=None, names=['texto'])\n",
    "df.columns = ['texto']\n",
    "\n",
    "# Tokenize o texto e salve o número de tokens em uma nova coluna\n",
    "df['n_tokens'] = df.texto.apply(lambda x: len(tokenizer.encode(x)))\n",
    "\n",
    "# Visualize a distribuição do número de tokens por linha usando um histograma\n",
    "df.hist(column='n_tokens')"
   ]
  },
  {
   "cell_type": "code",
   "execution_count": 42,
   "id": "7209fd2f",
   "metadata": {},
   "outputs": [
    {
     "data": {
      "text/html": [
       "<div>\n",
       "<style scoped>\n",
       "    .dataframe tbody tr th:only-of-type {\n",
       "        vertical-align: middle;\n",
       "    }\n",
       "\n",
       "    .dataframe tbody tr th {\n",
       "        vertical-align: top;\n",
       "    }\n",
       "\n",
       "    .dataframe thead th {\n",
       "        text-align: right;\n",
       "    }\n",
       "</style>\n",
       "<table border=\"1\" class=\"dataframe\">\n",
       "  <thead>\n",
       "    <tr style=\"text-align: right;\">\n",
       "      <th></th>\n",
       "      <th>texto</th>\n",
       "      <th>n_tokens</th>\n",
       "    </tr>\n",
       "  </thead>\n",
       "  <tbody>\n",
       "    <tr>\n",
       "      <th>0</th>\n",
       "      <td>Em 2024, teremos uma oportunidade única de esc...</td>\n",
       "      <td>125</td>\n",
       "    </tr>\n",
       "    <tr>\n",
       "      <th>1</th>\n",
       "      <td>É por isso que apresentamos este Programa elei...</td>\n",
       "      <td>143</td>\n",
       "    </tr>\n",
       "    <tr>\n",
       "      <th>2</th>\n",
       "      <td>Acreditamos que a educação, a ciência e a cult...</td>\n",
       "      <td>120</td>\n",
       "    </tr>\n",
       "    <tr>\n",
       "      <th>3</th>\n",
       "      <td>Acreditamos que a sustentabilidade, a agricult...</td>\n",
       "      <td>150</td>\n",
       "    </tr>\n",
       "    <tr>\n",
       "      <th>4</th>\n",
       "      <td>Acreditamos que a coesão territorial e a desce...</td>\n",
       "      <td>110</td>\n",
       "    </tr>\n",
       "  </tbody>\n",
       "</table>\n",
       "</div>"
      ],
      "text/plain": [
       "                                               texto  n_tokens\n",
       "0  Em 2024, teremos uma oportunidade única de esc...       125\n",
       "1  É por isso que apresentamos este Programa elei...       143\n",
       "2  Acreditamos que a educação, a ciência e a cult...       120\n",
       "3  Acreditamos que a sustentabilidade, a agricult...       150\n",
       "4  Acreditamos que a coesão territorial e a desce...       110"
      ]
     },
     "execution_count": 42,
     "metadata": {},
     "output_type": "execute_result"
    }
   ],
   "source": [
    "df.head()"
   ]
  },
  {
   "cell_type": "code",
   "execution_count": 43,
   "id": "2672bb56",
   "metadata": {},
   "outputs": [],
   "source": [
    "max_tokens = 2000\n",
    "\n",
    "# Função para dividir o texto em partes de um número máximo de tokens\n",
    "def split_into_many(texto, max_tokens = max_tokens):\n",
    "\n",
    "    \n",
    "    sentences = texto.split('. ')\n",
    "\n",
    "  \n",
    "    n_tokens = [len(tokenizer.encode(\" \" + sentence)) for sentence in sentences]\n",
    "    \n",
    "    chunks = []\n",
    "    tokens_so_far = 0\n",
    "    chunk = []\n",
    "\n",
    "    \n",
    "    for sentence, token in zip(sentences, n_tokens):\n",
    "\n",
    "        if tokens_so_far + token > max_tokens:\n",
    "            chunks.append(\". \".join(chunk) + \".\")\n",
    "            chunk = []\n",
    "            tokens_so_far = 0\n",
    "\n",
    "        # Se o número de tokens na frase atual for maior que o número máximo de \n",
    "        # tokens, vá para a próxima sentença\n",
    "        if token > max_tokens:\n",
    "            continue\n",
    "\n",
    "        # Caso contrário, adicione a frase ao bloco e adicione o número de tokens ao total\n",
    "        chunk.append(sentence)\n",
    "        tokens_so_far += token + 1\n",
    "\n",
    "    return chunks\n",
    "    \n",
    "\n",
    "shortened = []\n",
    "\n",
    "# Percorrer o dataframe\n",
    "for row in df.iterrows():\n",
    "\n",
    "    # Se o texto for None, vá para a próxima linha\n",
    "    if row[1]['texto'] is None:\n",
    "        continue\n",
    "\n",
    "    # Se o número de tokens for maior que o número máximo de tokens, divida o texto em partes\n",
    "    if row[1]['n_tokens'] > max_tokens:\n",
    "        shortened += split_into_many(row[1]['texto'])\n",
    "    \n",
    "    # Caso contrário, adicione o texto à lista de textos abreviados\n",
    "    else:\n",
    "        shortened.append( row[1]['texto'] )"
   ]
  },
  {
   "cell_type": "code",
   "execution_count": 44,
   "id": "579f3fae",
   "metadata": {},
   "outputs": [
    {
     "data": {
      "text/html": [
       "<div>\n",
       "<style scoped>\n",
       "    .dataframe tbody tr th:only-of-type {\n",
       "        vertical-align: middle;\n",
       "    }\n",
       "\n",
       "    .dataframe tbody tr th {\n",
       "        vertical-align: top;\n",
       "    }\n",
       "\n",
       "    .dataframe thead th {\n",
       "        text-align: right;\n",
       "    }\n",
       "</style>\n",
       "<table border=\"1\" class=\"dataframe\">\n",
       "  <thead>\n",
       "    <tr style=\"text-align: right;\">\n",
       "      <th></th>\n",
       "      <th>texto</th>\n",
       "      <th>n_tokens</th>\n",
       "    </tr>\n",
       "  </thead>\n",
       "  <tbody>\n",
       "    <tr>\n",
       "      <th>0</th>\n",
       "      <td>Em 2024, teremos uma oportunidade única de esc...</td>\n",
       "      <td>125</td>\n",
       "    </tr>\n",
       "    <tr>\n",
       "      <th>1</th>\n",
       "      <td>É por isso que apresentamos este Programa elei...</td>\n",
       "      <td>143</td>\n",
       "    </tr>\n",
       "    <tr>\n",
       "      <th>2</th>\n",
       "      <td>Acreditamos que a educação, a ciência e a cult...</td>\n",
       "      <td>120</td>\n",
       "    </tr>\n",
       "    <tr>\n",
       "      <th>3</th>\n",
       "      <td>Acreditamos que a sustentabilidade, a agricult...</td>\n",
       "      <td>150</td>\n",
       "    </tr>\n",
       "    <tr>\n",
       "      <th>4</th>\n",
       "      <td>Acreditamos que a coesão territorial e a desce...</td>\n",
       "      <td>110</td>\n",
       "    </tr>\n",
       "  </tbody>\n",
       "</table>\n",
       "</div>"
      ],
      "text/plain": [
       "                                               texto  n_tokens\n",
       "0  Em 2024, teremos uma oportunidade única de esc...       125\n",
       "1  É por isso que apresentamos este Programa elei...       143\n",
       "2  Acreditamos que a educação, a ciência e a cult...       120\n",
       "3  Acreditamos que a sustentabilidade, a agricult...       150\n",
       "4  Acreditamos que a coesão territorial e a desce...       110"
      ]
     },
     "execution_count": 44,
     "metadata": {},
     "output_type": "execute_result"
    }
   ],
   "source": [
    "df.head()"
   ]
  },
  {
   "cell_type": "code",
   "execution_count": 45,
   "id": "b3c3db3b",
   "metadata": {},
   "outputs": [
    {
     "data": {
      "text/plain": [
       "array([[<Axes: title={'center': 'n_tokens'}>]], dtype=object)"
      ]
     },
     "execution_count": 45,
     "metadata": {},
     "output_type": "execute_result"
    },
    {
     "data": {
      "image/png": "[encoded data removed]",
      "text/plain": [
       "<Figure size 640x480 with 1 Axes>"
      ]
     },
     "metadata": {},
     "output_type": "display_data"
    }
   ],
   "source": [
    "df = pd.DataFrame(shortened, columns = ['texto'])\n",
    "df['n_tokens'] = df.texto.apply(lambda x: len(tokenizer.encode(x)))\n",
    "df.hist(column='n_tokens')"
   ]
  },
  {
   "cell_type": "code",
   "execution_count": 46,
   "id": "8314df2b",
   "metadata": {},
   "outputs": [
    {
     "name": "stdout",
     "output_type": "stream",
     "text": [
      "Número total de tokens 113396\n"
     ]
    }
   ],
   "source": [
    "num_tot_tokens = df['n_tokens'].sum()\n",
    "print(\"Número total de tokens\",num_tot_tokens)"
   ]
  },
  {
   "cell_type": "code",
   "execution_count": 47,
   "id": "22217903",
   "metadata": {},
   "outputs": [
    {
     "name": "stdout",
     "output_type": "stream",
     "text": [
      "Número de trechos de texto com no máximo 2000 tokens : 1880\n"
     ]
    }
   ],
   "source": [
    "i = 0\n",
    "for texto in df['texto']:\n",
    "    i+=1\n",
    "    \n",
    "print(\"Número de trechos de texto com no máximo\",max_tokens,\"tokens :\",i)"
   ]
  },
  {
   "cell_type": "code",
   "execution_count": 48,
   "id": "46399d2e",
   "metadata": {},
   "outputs": [],
   "source": [
    "def read_openai_api_key():\n",
    "    with open('openai_chave.txt', 'r') as file:\n",
    "        api_key = file.read().strip()\n",
    "    return api_key\n",
    "\n",
    "my_api_key = read_openai_api_key()"
   ]
  },
  {
   "cell_type": "code",
   "execution_count": 12,
   "id": "96e4ae55",
   "metadata": {},
   "outputs": [],
   "source": [
    "openai.api_key = read_openai_api_key()"
   ]
  },
  {
   "cell_type": "code",
   "execution_count": 49,
   "id": "2d580a5b",
   "metadata": {},
   "outputs": [
    {
     "data": {
      "text/html": [
       "<div>\n",
       "<style scoped>\n",
       "    .dataframe tbody tr th:only-of-type {\n",
       "        vertical-align: middle;\n",
       "    }\n",
       "\n",
       "    .dataframe tbody tr th {\n",
       "        vertical-align: top;\n",
       "    }\n",
       "\n",
       "    .dataframe thead th {\n",
       "        text-align: right;\n",
       "    }\n",
       "</style>\n",
       "<table border=\"1\" class=\"dataframe\">\n",
       "  <thead>\n",
       "    <tr style=\"text-align: right;\">\n",
       "      <th></th>\n",
       "      <th>texto</th>\n",
       "      <th>n_tokens</th>\n",
       "    </tr>\n",
       "  </thead>\n",
       "  <tbody>\n",
       "    <tr>\n",
       "      <th>0</th>\n",
       "      <td>Em 2024, teremos uma oportunidade única de esc...</td>\n",
       "      <td>125</td>\n",
       "    </tr>\n",
       "    <tr>\n",
       "      <th>1</th>\n",
       "      <td>É por isso que apresentamos este Programa elei...</td>\n",
       "      <td>143</td>\n",
       "    </tr>\n",
       "    <tr>\n",
       "      <th>2</th>\n",
       "      <td>Acreditamos que a educação, a ciência e a cult...</td>\n",
       "      <td>120</td>\n",
       "    </tr>\n",
       "    <tr>\n",
       "      <th>3</th>\n",
       "      <td>Acreditamos que a sustentabilidade, a agricult...</td>\n",
       "      <td>150</td>\n",
       "    </tr>\n",
       "    <tr>\n",
       "      <th>4</th>\n",
       "      <td>Acreditamos que a coesão territorial e a desce...</td>\n",
       "      <td>110</td>\n",
       "    </tr>\n",
       "  </tbody>\n",
       "</table>\n",
       "</div>"
      ],
      "text/plain": [
       "                                               texto  n_tokens\n",
       "0  Em 2024, teremos uma oportunidade única de esc...       125\n",
       "1  É por isso que apresentamos este Programa elei...       143\n",
       "2  Acreditamos que a educação, a ciência e a cult...       120\n",
       "3  Acreditamos que a sustentabilidade, a agricult...       150\n",
       "4  Acreditamos que a coesão territorial e a desce...       110"
      ]
     },
     "execution_count": 49,
     "metadata": {},
     "output_type": "execute_result"
    }
   ],
   "source": [
    "df.head()"
   ]
  },
  {
   "cell_type": "code",
   "execution_count": null,
   "id": "f12139ae",
   "metadata": {},
   "outputs": [],
   "source": []
  },
  {
   "cell_type": "code",
   "execution_count": null,
   "id": "c9efefdd",
   "metadata": {},
   "outputs": [],
   "source": [
    "i = 0\n",
    "embeddings = []\n",
    "for tex in df['texto']:\n",
    "    time.sleep(2)\n",
    "    print(i)\n",
    "    try:\n",
    "        tex1 = tex.replace(\"\\n\", \" \")\n",
    "        embedding = openai.Embedding.create(input=tex1, engine='text-embedding-3-small')['data'][0]['embedding']\n",
    "        print(\"Fazendo embedding do texto\")\n",
    "        embeddings.append(embedding)\n",
    "    except openai.error.RateLimitError:\n",
    "        print(\"Rate limit error, esperando 10 segundo antes de tentar novamente\")\n",
    "        time.sleep(20)  \n",
    "        embedding = openai.Embedding(input=tex1, engine='text-embedding-3-small')['data'][0]['embedding']\n",
    "        print(\"embedding texto depois de esperar 20 segundos\")\n",
    "        embeddings.append(embedding)\n",
    "    i+=1\n",
    "\n",
    "df['embeddings'] = embeddings\n",
    "df.to_csv('embeddings.csv')\n",
    "df.head()"
   ]
  },
  {
   "cell_type": "code",
   "execution_count": 51,
   "id": "994f09f5",
   "metadata": {},
   "outputs": [
    {
     "data": {
      "text/html": [
       "<div>\n",
       "<style scoped>\n",
       "    .dataframe tbody tr th:only-of-type {\n",
       "        vertical-align: middle;\n",
       "    }\n",
       "\n",
       "    .dataframe tbody tr th {\n",
       "        vertical-align: top;\n",
       "    }\n",
       "\n",
       "    .dataframe thead th {\n",
       "        text-align: right;\n",
       "    }\n",
       "</style>\n",
       "<table border=\"1\" class=\"dataframe\">\n",
       "  <thead>\n",
       "    <tr style=\"text-align: right;\">\n",
       "      <th></th>\n",
       "      <th>texto</th>\n",
       "      <th>n_tokens</th>\n",
       "      <th>embeddings</th>\n",
       "    </tr>\n",
       "  </thead>\n",
       "  <tbody>\n",
       "    <tr>\n",
       "      <th>0</th>\n",
       "      <td>Em 2024, teremos uma oportunidade única de esc...</td>\n",
       "      <td>125</td>\n",
       "      <td>[0.017937149852514267, 0.013401876203715801, 0...</td>\n",
       "    </tr>\n",
       "    <tr>\n",
       "      <th>1</th>\n",
       "      <td>É por isso que apresentamos este Programa elei...</td>\n",
       "      <td>143</td>\n",
       "      <td>[0.06237228959798813, 0.003158759092912078, 0....</td>\n",
       "    </tr>\n",
       "    <tr>\n",
       "      <th>2</th>\n",
       "      <td>Acreditamos que a educação, a ciência e a cult...</td>\n",
       "      <td>120</td>\n",
       "      <td>[0.06579941511154175, -0.008490086533129215, 0...</td>\n",
       "    </tr>\n",
       "    <tr>\n",
       "      <th>3</th>\n",
       "      <td>Acreditamos que a sustentabilidade, a agricult...</td>\n",
       "      <td>150</td>\n",
       "      <td>[0.048812080174684525, 0.03299587592482567, 0....</td>\n",
       "    </tr>\n",
       "    <tr>\n",
       "      <th>4</th>\n",
       "      <td>Acreditamos que a coesão territorial e a desce...</td>\n",
       "      <td>110</td>\n",
       "      <td>[0.044376570731401443, 0.029419563710689545, 0...</td>\n",
       "    </tr>\n",
       "  </tbody>\n",
       "</table>\n",
       "</div>"
      ],
      "text/plain": [
       "                                               texto  n_tokens  \\\n",
       "0  Em 2024, teremos uma oportunidade única de esc...       125   \n",
       "1  É por isso que apresentamos este Programa elei...       143   \n",
       "2  Acreditamos que a educação, a ciência e a cult...       120   \n",
       "3  Acreditamos que a sustentabilidade, a agricult...       150   \n",
       "4  Acreditamos que a coesão territorial e a desce...       110   \n",
       "\n",
       "                                          embeddings  \n",
       "0  [0.017937149852514267, 0.013401876203715801, 0...  \n",
       "1  [0.06237228959798813, 0.003158759092912078, 0....  \n",
       "2  [0.06579941511154175, -0.008490086533129215, 0...  \n",
       "3  [0.048812080174684525, 0.03299587592482567, 0....  \n",
       "4  [0.044376570731401443, 0.029419563710689545, 0...  "
      ]
     },
     "execution_count": 51,
     "metadata": {},
     "output_type": "execute_result"
    }
   ],
   "source": [
    "df=pd.read_csv('embeddings.csv', index_col=0)\n",
    "df['embeddings'] = df['embeddings'].apply(eval).apply(np.array)\n",
    "\n",
    "df.head()"
   ]
  },
  {
   "cell_type": "code",
   "execution_count": 52,
   "id": "fff01e70",
   "metadata": {},
   "outputs": [],
   "source": [
    "def create_context(question, df, max_len=1800, size=\"ada\"):\n",
    "    \"\"\"\n",
    "    Cria um contexto para uma pergunta encontrando o contexto mais similar no conjunto de embeddings gerado utilizando o Custom Knowledge.\n",
    "    \"\"\"\n",
    "\n",
    "    # Obter a embeddings para a pergunta que foi feita\n",
    "    q_embeddings = openai.Embedding.create(input=question, engine='text-embedding-3-small')['data'][0]['embedding']\n",
    "\n",
    "    # Obter as distâncias a partir dos embeddings\n",
    "    df['distances'] = distances_from_embeddings(q_embeddings, df['embeddings'].values, distance_metric='cosine')\n",
    "\n",
    "\n",
    "    returns = []\n",
    "    cur_len = 0\n",
    "\n",
    "    # Classifique por distância e adicione o texto ao contexto\n",
    "    for i, row in df.sort_values('distances', ascending=True).iterrows():\n",
    "        \n",
    "        # Adicionar o comprimento do texto ao comprimento atual\n",
    "        cur_len += row['n_tokens'] + 4\n",
    "        \n",
    "    \n",
    "        if cur_len > max_len:\n",
    "            break\n",
    "        \n",
    "        # Caso contrário, adicione-o ao texto que está sendo retornado\n",
    "        returns.append(row[\"texto\"])\n",
    "\n",
    "    # Retornar o contexto\n",
    "    return \"\\n\\n###\\n\\n\".join(returns)\n"
   ]
  },
  {
   "cell_type": "code",
   "execution_count": null,
   "id": "cff347b9",
   "metadata": {},
   "outputs": [],
   "source": [
    "def answer_question(\n",
    "                    df=df,\n",
    "                    model=\"gpt-3.5-turbo-instruct\",\n",
    "                    question=\"O que é a Alianca Democratica?\",\n",
    "                    max_len=1800,\n",
    "                    size=\"ada\",\n",
    "                    debug=False,\n",
    "                    max_tokens=150,\n",
    "                    stop_sequence=None):\n",
    "    \"\"\"\n",
    "    Responder a uma pergunta com base no contexto mais semelhante dos textos do dataframe\n",
    "    \"\"\"\n",
    "    context = create_context(question, df=df, max_len=max_len,size=size)\n",
    "    if debug:\n",
    "        print(\"Context:\\n\" + context)\n",
    "        print(\"\\n\\n\")\n",
    "\n",
    "    try:\n",
    "        # Criar uma conclusão usando a pergunta e o contexto\n",
    "        response = openai.Completion.create(\n",
    "            prompt=f\"Responda as perguntas com base no contexto abaixo, e se a pergunta não puder ser respondida diga \\\"Eu não sei responder isso\\\"\\n\\Contexto: {context}\\n\\n---\\n\\nPergunta: {question}\\nResposta:\",\n",
    "            temperature=0,\n",
    "            max_tokens=max_tokens,\n",
    "            top_p=1,\n",
    "            frequency_penalty=0,\n",
    "            presence_penalty=0,\n",
    "            stop=stop_sequence,\n",
    "            model=model\n",
    "        )\n",
    "        return response[\"choices\"][0][\"text\"].strip()\n",
    "    except Exception as e:\n",
    "        print(e)\n",
    "    #     retornar \"\""
   ]
  },
  {
   "cell_type": "code",
   "execution_count": 54,
   "id": "847b004b",
   "metadata": {},
   "outputs": [
    {
     "data": {
      "text/plain": [
       "'A Aliança Democrática é uma coligação política formada pelos partidos PSD, CDS-PP e PPM, juntamente com personalidades independentes, que propõe uma mudança política e de políticas no país, com o objetivo de promover a prosperidade, o crescimento econômico e as oportunidades para todos os portugueses. Foi criada em 1979 e reeditada em 2024, com o objetivo de governar o país e superar o ciclo de governação socialista.'"
      ]
     },
     "execution_count": 54,
     "metadata": {},
     "output_type": "execute_result"
    }
   ],
   "source": [
    "answer_question(question=\"O que é a Alianca Democratica?\", debug=False)"
   ]
  },
  {
   "cell_type": "code",
   "execution_count": 55,
   "id": "e700351a",
   "metadata": {},
   "outputs": [],
   "source": [
    "def chatgpt_clone(input, history):\n",
    "    history= history or []\n",
    "    s = list(sum(history, ()))\n",
    "    s.append(input)\n",
    "    inp = ' '.join(s)\n",
    "    output=answer_question(question = inp)\n",
    "    history.append((input, output))\n",
    "    return history, history"
   ]
  },
  {
   "cell_type": "code",
   "execution_count": 56,
   "id": "42fd3bbc",
   "metadata": {},
   "outputs": [
    {
     "name": "stdout",
     "output_type": "stream",
     "text": [
      "Running on local URL:  http://127.0.0.1:7860\n",
      "\n",
      "To create a public link, set `share=True` in `launch()`.\n"
     ]
    },
    {
     "data": {
      "text/html": [
       "<div><iframe src=\"http://127.0.0.1:7860/\" width=\"100%\" height=\"500\" allow=\"autoplay; camera; microphone; clipboard-read; clipboard-write;\" frameborder=\"0\" allowfullscreen></iframe></div>"
      ],
      "text/plain": [
       "<IPython.core.display.HTML object>"
      ]
     },
     "metadata": {},
     "output_type": "display_data"
    }
   ],
   "source": [
    "with gr.Blocks(theme=gr.themes.Soft(),css=\".gradio-container {background-color: lightsteelblue}\") as block:\n",
    "    with gr.Row():\n",
    "        img1 = gr.Image(\"images/ad.png\",show_label=False, width=100, height=100)\n",
    "        img2 = gr.Image(\"images/ad1.png\",show_label=False, width=100, height=100)\n",
    "    gr.Markdown(\"\"\"<h1><center>Chatbot Aliança Democrática Grupo Nº 11 </center></h1>\"\"\")\n",
    "    chatbot=gr.Chatbot(label=\"Conversa\")\n",
    "    message=gr.Textbox(label=\"Faça sua pergunta\",placeholder=\"O que você gostaria de saber sobre Aliança Democrática?\")\n",
    "    state = gr.State()\n",
    "    submit = gr.Button(\"Perguntar\")\n",
    "    submit.click(chatgpt_clone, inputs=[message, state], outputs=[chatbot, state])\n",
    "\n",
    "block.launch(debug=True)"
   ]
  }
 ],
 "metadata": {
  "kernelspec": {
   "display_name": "Python 3 (ipykernel)",
   "language": "python",
   "name": "python3"
  },
  "language_info": {
   "codemirror_mode": {
    "name": "ipython",
    "version": 3
   },
   "file_extension": ".py",
   "mimetype": "text/x-python",
   "name": "python",
   "nbconvert_exporter": "python",
   "pygments_lexer": "ipython3",
   "version": "3.12.3"
  }
 },
 "nbformat": 4,
 "nbformat_minor": 5
}
